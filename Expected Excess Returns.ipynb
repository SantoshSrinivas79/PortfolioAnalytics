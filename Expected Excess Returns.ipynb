{
 "cells": [
  {
   "cell_type": "code",
   "execution_count": 1,
   "metadata": {
    "collapsed": true
   },
   "outputs": [],
   "source": [
    "import numpy as np\n",
    "import pandas as pd\n",
    "import pandas_datareader.data as web\n",
    "import quandl as ql\n",
    "import datetime as dt\n",
    "import statsmodels.regression.linear_model as rg\n",
    "import statsmodels.tools.tools as ct"
   ]
  },
  {
   "cell_type": "code",
   "execution_count": 3,
   "metadata": {},
   "outputs": [],
   "source": [
    "# 3.5. Assets and Market Relationship (Systematic Risk)\n",
    "\n",
    "# Asset/Portfolio: U.S. Large Cap Stock Market\n",
    "# Market: U.S. Total Stock Market\n",
    "# Risk Free Rate: U.S. Total Money Market Mean\n",
    "# Fama-French-Carhart Factors: U.S. Total Stock Market Premium (Mkt-Rf), U.S. Total Stock Market Size Premium (SMB),\n",
    "#                              U.S. Total Stock Market Investment Style Premium (HML), Risk Free Rate (Rf)\n",
    "\n",
    "# Data Query and Range Delimiting\n",
    "expretquery1 = web.DataReader(['SPY', 'VTI'], 'yahoo', '2006-04-01', '2016-05-01')\n",
    "cexpret = expretquery1['Close']\n",
    "mexpretall = cexpret.asfreq('M', method='pad')\n",
    "mexpretall.columns = ['mlarge', 'mstocks']\n",
    "\n",
    "expretquery2 = ql.get(\"USTREASURY/YIELD.1\", collapse=\"monthly\")\n",
    "expretquery2 = expretquery2['2006-04-01':'2016-04-30']\n",
    "expretquery2.columns = ['mcash']\n",
    "mexpretall.loc[:, 'mcash'] = expretquery2['mcash']\n"
   ]
  },
  {
   "cell_type": "code",
   "execution_count": 4,
   "metadata": {
    "collapsed": true
   },
   "outputs": [],
   "source": [
    "# Modify Path to Data File\n",
    "expretquery3 = pd.read_csv('C:\\\\Users\\\\nisha\\\\Documents\\\\Data Science\\\\Portfolio Analytics\\\\Expected-Excess-Returns-Data.txt', index_col='Date',\n",
    "                           parse_dates=True)\n",
    "mexpretall.loc[:, 'mmomentum'] = expretquery3['mmomentum']\n",
    "mexpretall.loc[:, 'mspremium'] = expretquery3['mspremium']\n",
    "mexpretall.loc[:, 'msize'] = expretquery3['msize']\n",
    "mexpretall.loc[:, 'mstyle'] = expretquery3['mstyle']\n",
    "mexpretall.loc[:, 'mrisk'] = expretquery3['mrisk']\n",
    "\n",
    "expretquery4 = ql.get(\"FRED/CPIAUCSL\", collapse=\"monthly\")\n",
    "expretquery4 = expretquery4['2006-04-01':'2016-04-30']\n",
    "expretquery4.columns = ['mcpi']\n",
    "mexpretall.loc[:, 'mcpi'] = expretquery4['mcpi']\n"
   ]
  },
  {
   "cell_type": "code",
   "execution_count": 5,
   "metadata": {
    "collapsed": true
   },
   "outputs": [],
   "source": [
    "# Monthly and Annual Returns Calculation\n",
    "mexpretall.loc[:, 'mstocksret'] = mexpretall.loc[:, 'mstocks'] / mexpretall.loc[:, 'mstocks'].shift(1) - 1\n",
    "mexpretall.loc[:, 'astocksret'] = mexpretall.loc[:, 'mstocks'] / mexpretall.loc[:, 'mstocks'].shift(12) - 1\n",
    "\n",
    "mexpretall.loc[:, 'mlargeret'] = mexpretall.loc[:, 'mlarge'] / mexpretall.loc[:, 'mlarge'].shift(1) - 1\n",
    "mexpretall.loc[:, 'alargeret'] = mexpretall.loc[:, 'mlarge'] / mexpretall.loc[:, 'mlarge'].shift(12) - 1\n",
    "\n",
    "mexpretall.loc[:, 'mcashret'] = (mexpretall.loc[:, 'mcash'] / 100) / 12\n",
    "mexpretall.loc[:, 'acashret'] = mexpretall.loc[:, 'mcash'] / 100\n",
    "\n",
    "mexpretall.loc[:, 'mmomentumret'] = mexpretall.loc[:, 'mmomentum'] / 100\n",
    "mexpretall.loc[:, 'mspremiumret'] = mexpretall.loc[:, 'mspremium'] / 100\n",
    "mexpretall.loc[:, 'msizeret'] = mexpretall.loc[:, 'msize'] / 100\n",
    "mexpretall.loc[:, 'mstyleret'] = mexpretall.loc[:, 'mstyle'] / 100\n",
    "mexpretall.loc[:, 'mriskret'] = mexpretall.loc[:, 'mrisk'] / 100\n",
    "\n",
    "mexpretall.loc[:, 'mcpiret'] = mexpretall.loc[:, 'mcpi'] / mexpretall.loc[:, 'mcpi'].shift(1) - 1\n",
    "mexpretall.loc[:, 'acpiret'] = mexpretall.loc[:, 'mcpi'] / mexpretall.loc[:, 'mcpi'].shift(12) - 1\n"
   ]
  },
  {
   "cell_type": "code",
   "execution_count": 6,
   "metadata": {},
   "outputs": [
    {
     "name": "stderr",
     "output_type": "stream",
     "text": [
      "C:\\Users\\nisha\\Anaconda3\\lib\\site-packages\\ipykernel_launcher.py:3: RuntimeWarning: Mean of empty slice\n",
      "  This is separate from the ipykernel package so we can avoid doing imports until\n",
      "C:\\Users\\nisha\\Anaconda3\\lib\\site-packages\\ipykernel_launcher.py:4: RuntimeWarning: Mean of empty slice\n",
      "  after removing the cwd from sys.path.\n"
     ]
    }
   ],
   "source": [
    "# 3.5.1. Capital Asset Pricing Model CAPM\n",
    "\n",
    "mstocksmean = np.nanmean(mexpretall.loc[:, 'mstocksret'])\n",
    "mlargemean = np.nanmean(mexpretall.loc[:, 'mlargeret'])\n",
    "mcashmean = np.nanmean(mexpretall.loc[:, 'mcashret'])\n"
   ]
  },
  {
   "cell_type": "code",
   "execution_count": 7,
   "metadata": {},
   "outputs": [
    {
     "name": "stderr",
     "output_type": "stream",
     "text": [
      "C:\\Users\\nisha\\Anaconda3\\lib\\site-packages\\ipykernel_launcher.py:6: RuntimeWarning: invalid value encountered in double_scalars\n",
      "  \n"
     ]
    }
   ],
   "source": [
    "# CAPM Beta Coefficient\n",
    "# First convert all NaN value to 0 as cov function doesn't have exception\n",
    "mexpretall[np.isnan(mexpretall)] = 0\n",
    "mlargecov = np.cov(mexpretall.loc[:, 'mstocksret'], mexpretall.loc[:, 'mlargeret'])\n",
    "mstocksstdev2 = np.nanstd(mexpretall.loc[:, 'mstocksret']) ** 2\n",
    "mbetacapm = mlargecov.item(1) / mstocksstdev2\n"
   ]
  },
  {
   "cell_type": "code",
   "execution_count": 8,
   "metadata": {
    "collapsed": true
   },
   "outputs": [],
   "source": [
    "# CAPM Jensen's Alpha Intercept\n",
    "malphacapm = mlargemean - (mcashmean + mbetacapm * (mstocksmean - mcashmean))\n"
   ]
  },
  {
   "cell_type": "code",
   "execution_count": 9,
   "metadata": {
    "collapsed": true
   },
   "outputs": [],
   "source": [
    "# CAPM Expected Monthly Returns\n",
    "mexpretall.loc[:, 'mcapmret'] = mexpretall.loc[:, 'mcashret'] \\\n",
    "                               + mbetacapm * (mexpretall.loc[:, 'mstocksret'] - mexpretall.loc[:, 'mcashret'])\n"
   ]
  },
  {
   "cell_type": "code",
   "execution_count": 10,
   "metadata": {
    "collapsed": true
   },
   "outputs": [],
   "source": [
    "# CAPM Expected Annualized Monthly Returns\n",
    "mexpretall.loc[:, 'mcapmretcuma'] = np.cumprod(mexpretall.loc[:, 'mcapmret'] + 1) ** (12 / len(mexpretall)) - 1\n",
    "lastdate = dt.datetime(2016, 3, 31)\n",
    "mcapmreta = mexpretall.at[lastdate, 'mcapmretcuma']\n"
   ]
  },
  {
   "cell_type": "code",
   "execution_count": 11,
   "metadata": {
    "collapsed": true
   },
   "outputs": [],
   "source": [
    "# 3.5.2. Fama-French-Carhart Factors Model\n",
    "\n",
    "# Fama-French-Carhart Regression\n",
    "# Add Constant Column as OLS regression doesn't include it\n",
    "mexpretall.loc[:, 'mconstant'] = ct.add_constant(mexpretall)\n",
    "# Calculate U.S. Large Cap Stocks Premium\n",
    "mexpretall.loc[:, 'mlpremiumret'] = mexpretall.loc[:, 'mlargeret'] - mexpretall.loc[:, 'mriskret']\n",
    "# Calculate OLS Regression\n",
    "mregfactorsffc = ['mmomentumret', 'mspremiumret', 'msizeret', 'mstyleret', 'mconstant']\n",
    "mregressionffc = rg.OLS(mexpretall.loc[:, 'mlpremiumret'], mexpretall.loc[:, mregfactorsffc],\n",
    "                        hasconst=bool).fit()\n"
   ]
  },
  {
   "cell_type": "code",
   "execution_count": 12,
   "metadata": {
    "collapsed": true
   },
   "outputs": [],
   "source": [
    "# Fama-French-Carhart Beta Coefficients\n",
    "mmomentumbeta = mregressionffc.params[0]\n",
    "mspremiumbetaffc = mregressionffc.params[1]\n",
    "msizebeta = mregressionffc.params[2]\n",
    "mstylebeta = mregressionffc.params[3]\n"
   ]
  },
  {
   "cell_type": "code",
   "execution_count": 13,
   "metadata": {
    "collapsed": true
   },
   "outputs": [],
   "source": [
    "# Fama-French-Carhart Alpha Intercept\n",
    "malphaffc = mregressionffc.params[4]\n"
   ]
  },
  {
   "cell_type": "code",
   "execution_count": 14,
   "metadata": {
    "collapsed": true
   },
   "outputs": [],
   "source": [
    "# Fama-French-Carhart Expected Monthly Returns\n",
    "mexpretall.loc[:, 'mffcret'] = mexpretall.loc[:, 'mriskret'] + malphaffc \\\n",
    "                               + mspremiumbetaffc * mexpretall.loc[:, 'mspremiumret'] \\\n",
    "                               + msizebeta * mexpretall.loc[:, 'msizeret'] \\\n",
    "                               + mstylebeta * mexpretall.loc[:, 'mstyleret'] \\\n",
    "                               + mmomentumbeta * mexpretall.loc[:, 'mmomentumret']\n"
   ]
  },
  {
   "cell_type": "code",
   "execution_count": 15,
   "metadata": {
    "collapsed": true
   },
   "outputs": [],
   "source": [
    "# Fama-French-Carhart Expected Annualized Monthly Returns\n",
    "mexpretall.loc[:, 'mffcretcuma'] = np.cumprod(mexpretall.loc[:, 'mffcret'] + 1) ** (12 / len(mexpretall)) - 1\n",
    "mffcreta = mexpretall.at[lastdate, 'mffcretcuma']\n"
   ]
  },
  {
   "cell_type": "code",
   "execution_count": 16,
   "metadata": {
    "collapsed": true
   },
   "outputs": [],
   "source": [
    "# 3.5.3. Arbitrage Pricing Theory Model APT\n",
    "\n",
    "# Arbitrage Pricing Theory Regression\n",
    "mregfactorsapt = ['mspremiumret', 'mcpiret', 'mconstant']\n",
    "mregressionapt = rg.OLS(mexpretall.loc[:, 'mlpremiumret'], mexpretall.loc[:, mregfactorsapt],\n",
    "                        hasconst=bool).fit()\n"
   ]
  },
  {
   "cell_type": "code",
   "execution_count": 17,
   "metadata": {
    "collapsed": true
   },
   "outputs": [],
   "source": [
    "# Arbitrage Pricing Theory Beta Coefficients\n",
    "mspremiumbetaapt = mregressionapt.params[0]\n",
    "mcpibeta = mregressionapt.params[1]\n"
   ]
  },
  {
   "cell_type": "code",
   "execution_count": 18,
   "metadata": {
    "collapsed": true
   },
   "outputs": [],
   "source": [
    "# Arbitrage Pricing Theory Alpha Intercept\n",
    "malphaapt = mregressionapt.params[2]\n"
   ]
  },
  {
   "cell_type": "code",
   "execution_count": 19,
   "metadata": {
    "collapsed": true
   },
   "outputs": [],
   "source": [
    "# Arbitrage Pricing Theory Expected Monthly Returns\n",
    "mexpretall.loc[:, 'maptret'] = mexpretall.loc[:, 'mriskret'] + malphaapt \\\n",
    "                               + mspremiumbetaapt * mexpretall.loc[:, 'mspremiumret'] \\\n",
    "                               + mcpibeta * mexpretall.loc[:, 'mcpiret']\n"
   ]
  },
  {
   "cell_type": "code",
   "execution_count": 20,
   "metadata": {
    "collapsed": true
   },
   "outputs": [],
   "source": [
    "# Arbitrage Pricing Theory Expected Annualized Monthly Returns\n",
    "mexpretall.loc[:, 'maptretcuma'] = np.cumprod(mexpretall.loc[:, 'maptret'] + 1) ** (12 / len(mexpretall)) - 1\n",
    "maptreta = mexpretall.at[lastdate, 'maptretcuma']\n"
   ]
  },
  {
   "cell_type": "code",
   "execution_count": 21,
   "metadata": {},
   "outputs": [
    {
     "name": "stdout",
     "output_type": "stream",
     "text": [
      "\n",
      "                           0           1          2            3           4\n",
      "0                             mlargereta  mcapmreta     mffcreta    maptreta\n",
      "1  Annualized Monthly Return           0        NaN  6.04255e-05  7.6776e-05\n",
      "\n"
     ]
    }
   ],
   "source": [
    "# 3.5.4. Expected Excess Returns Comparison Tables\n",
    "\n",
    "# Expected Returns Third Comparison\n",
    "# Compounded Annual Growth Rate need to be calculated again\n",
    "mexpretall.loc[:, 'mlargecuma'] = np.cumprod(mexpretall.loc[:, 'mlargeret'] + 1) ** (12 / len(mexpretall)) - 1\n",
    "mlargereta = mexpretall.at[lastdate, 'mlargecuma']\n",
    "# Comparison Table\n",
    "aretcompdata3 = [{'0': '', '1': 'mlargereta', '2': 'mcapmreta', '3': 'mffcreta', '4': 'maptreta'},\n",
    "        {'0': 'Annualized Monthly Return', '1': mlargereta, '2': mcapmreta, '3': mffcreta,'4': maptreta}]\n",
    "aretcomptable3 = pd.DataFrame(aretcompdata3)\n",
    "print(\"\")\n",
    "print(aretcomptable3)\n",
    "print(\"\")\n"
   ]
  },
  {
   "cell_type": "code",
   "execution_count": 22,
   "metadata": {},
   "outputs": [
    {
     "name": "stdout",
     "output_type": "stream",
     "text": [
      "\n",
      "                                  0            1           2           3\n",
      "0                                    malphacapma  malphaffca  malphaapta\n",
      "1  Annualized Monthly Excess Return          NaN -0.00297044 -0.00255747\n",
      "\n"
     ]
    }
   ],
   "source": [
    "# Expected Excess Returns Comparison\n",
    "# Annualize CAPM, Fama-French-Carhart and Arbitratge Pricing Theory Models Alpha Intercept\n",
    "malphacapma = malphacapm * np.sqrt(12)\n",
    "malphaffca = malphaffc * np.sqrt(12)\n",
    "malphaapta = malphaapt * np.sqrt(12)\n",
    "# Comparison Table\n",
    "aeretcompdata = [{'0': '', '1': 'malphacapma', '2': 'malphaffca', '3': 'malphaapta'},\n",
    "        {'0': 'Annualized Monthly Excess Return', '1': malphacapma, '2': malphaffca, '3': malphaapta}]\n",
    "aeretcomptable = pd.DataFrame(aeretcompdata)\n",
    "print(\"\")\n",
    "print(aeretcomptable)\n",
    "print(\"\")\n"
   ]
  },
  {
   "cell_type": "code",
   "execution_count": 23,
   "metadata": {},
   "outputs": [
    {
     "name": "stdout",
     "output_type": "stream",
     "text": [
      "\n",
      "                   0         1           2          3\n",
      "0  (Systematic Risk)  mcapmret     mffcret    maptret\n",
      "1       Market Beta:       NaN  0.00197951  0.0037047\n",
      "2         Size Beta:            0.00680506           \n",
      "3        Style Beta:           -0.00491146           \n",
      "4     Momentum Beta:             -0.001851           \n",
      "5    Inflation Beta:                       -0.0850816\n",
      "\n"
     ]
    }
   ],
   "source": [
    "# Beta Coefficients Comparison\n",
    "mbetacompdata = [{'0': '(Systematic Risk)', '1': 'mcapmret', '2': 'mffcret', '3': 'maptret'},\n",
    "        {'0': 'Market Beta:', '1': mbetacapm, '2': mspremiumbetaffc, '3': mspremiumbetaapt},\n",
    "        {'0': 'Size Beta:', '1': '', '2': msizebeta, '3': ''},\n",
    "        {'0': 'Style Beta:', '1': '', '2': mstylebeta, '3': ''},\n",
    "        {'0': 'Momentum Beta:', '1': '', '2': mmomentumbeta, '3': ''},\n",
    "        {'0': 'Inflation Beta:', '1': '', '2': '', '3': mcpibeta}]\n",
    "mbetacomptable = pd.DataFrame(mbetacompdata)\n",
    "print(\"\")\n",
    "print(mbetacomptable)\n",
    "print(\"\")\n"
   ]
  },
  {
   "cell_type": "code",
   "execution_count": 24,
   "metadata": {},
   "outputs": [
    {
     "name": "stdout",
     "output_type": "stream",
     "text": [
      "CAPM Annualized Monthly Residual Variance (Unsystematic Risk): 0.0\n",
      "\n"
     ]
    }
   ],
   "source": [
    "# CAPM Residual Variance (Unsystematic Risk)\n",
    "mcapmresvar = np.nanvar(rg.OLS(mexpretall.loc[:, 'mlargeret'], mexpretall.loc[:, 'mstocksret']).fit().resid)\n",
    "mcapmresvara = mcapmresvar * np.sqrt(12)\n",
    "print('CAPM Annualized Monthly Residual Variance (Unsystematic Risk):', mcapmresvara)\n",
    "print(\"\")"
   ]
  },
  {
   "cell_type": "code",
   "execution_count": null,
   "metadata": {
    "collapsed": true
   },
   "outputs": [],
   "source": []
  }
 ],
 "metadata": {
  "kernelspec": {
   "display_name": "Python 3",
   "language": "python",
   "name": "python3"
  },
  "language_info": {
   "codemirror_mode": {
    "name": "ipython",
    "version": 3
   },
   "file_extension": ".py",
   "mimetype": "text/x-python",
   "name": "python",
   "nbconvert_exporter": "python",
   "pygments_lexer": "ipython3",
   "version": "3.6.2"
  }
 },
 "nbformat": 4,
 "nbformat_minor": 2
}
