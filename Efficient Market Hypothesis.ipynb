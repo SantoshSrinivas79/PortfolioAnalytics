{
 "cells": [
  {
   "cell_type": "code",
   "execution_count": 1,
   "metadata": {
    "collapsed": true
   },
   "outputs": [],
   "source": [
    "import numpy as np\n",
    "import pandas as pd\n",
    "import statsmodels.regression.linear_model as rg\n",
    "import statsmodels.tools.tools as ct\n"
   ]
  },
  {
   "cell_type": "code",
   "execution_count": 2,
   "metadata": {
    "collapsed": true
   },
   "outputs": [],
   "source": [
    "# 5. Efficient Market Hypothesis (EMH)\n",
    "\n",
    "# Fama-French-Carhart Factors: U.S. Total Stock Market Premium (Mkt-Rf), U.S. Total Stock Market Size Premium (SMB),\n",
    "#                              U.S. Total Stock Market Investment Style Premium (HML), Risk Free Rate (Rf)\n",
    "\n",
    "# Data Query and Range Delimiting\n",
    "\n",
    "# Modify Path to Data File\n",
    "aemhall = pd.read_csv('C:\\\\Users\\\\nisha\\\\Documents\\\\Data Science\\\\Portfolio Analytics\\\\Efficient-Market-Hypothesis-Data.txt', index_col='Date',\n",
    "                           parse_dates=True)\n"
   ]
  },
  {
   "cell_type": "code",
   "execution_count": 3,
   "metadata": {
    "collapsed": true
   },
   "outputs": [],
   "source": [
    "# Monthly and Annual Returns Calculation\n",
    "aemhall.loc[:, 'amomentumret'] = aemhall.loc[:, 'amomentum'] / 100\n",
    "aemhall.loc[:, 'aspremiumret'] = aemhall.loc[:, 'aspremium'] / 100\n",
    "aemhall.loc[:, 'asizeret'] = aemhall.loc[:, 'asize'] / 100\n",
    "aemhall.loc[:, 'astyleret'] = aemhall.loc[:, 'astyle'] / 100\n",
    "aemhall.loc[:, 'ariskret'] = aemhall.loc[:, 'arisk'] / 100\n"
   ]
  },
  {
   "cell_type": "code",
   "execution_count": 4,
   "metadata": {},
   "outputs": [
    {
     "name": "stdout",
     "output_type": "stream",
     "text": [
      "                            OLS Regression Results                            \n",
      "==============================================================================\n",
      "Dep. Variable:           aspremiumret   R-squared:                       0.007\n",
      "Model:                            OLS   Adj. R-squared:                 -0.004\n",
      "Method:                 Least Squares   F-statistic:                    0.6507\n",
      "Date:                Mon, 06 Nov 2017   Prob (F-statistic):              0.422\n",
      "Time:                        12:24:20   Log-Likelihood:                 15.219\n",
      "No. Observations:                  89   AIC:                            -26.44\n",
      "Df Residuals:                      87   BIC:                            -21.46\n",
      "Df Model:                           1                                         \n",
      "Covariance Type:            nonrobust                                         \n",
      "================================================================================\n",
      "                   coef    std err          t      P>|t|      [0.025      0.975]\n",
      "--------------------------------------------------------------------------------\n",
      "aconstant        0.0939      0.026      3.657      0.000       0.043       0.145\n",
      "amomentumret    -0.1132      0.140     -0.807      0.422      -0.392       0.166\n",
      "==============================================================================\n",
      "Omnibus:                        1.206   Durbin-Watson:                   1.927\n",
      "Prob(Omnibus):                  0.547   Jarque-Bera (JB):                1.116\n",
      "Skew:                          -0.269   Prob(JB):                        0.572\n",
      "Kurtosis:                       2.891   Cond. No.                         6.48\n",
      "==============================================================================\n",
      "\n",
      "Warnings:\n",
      "[1] Standard Errors assume that the covariance matrix of the errors is correctly specified.\n"
     ]
    }
   ],
   "source": [
    "# 5.1. Weak From Efficient Market Hypothesis\n",
    "\n",
    "# 5.1.1. Test Technical Factor Statistical Significance\n",
    "# Add Constant Column as OLS regression doesn't include it\n",
    "aemhall.loc[:, 'aconstant'] = ct.add_constant(aemhall)\n",
    "# Calculate OLS Regression\n",
    "aregfactorsweak = ['aconstant', 'amomentumret']\n",
    "aregressionweak = rg.OLS(aemhall.loc[:, 'aspremiumret'], aemhall.loc[:, aregfactorsweak],\n",
    "                        hasconst=bool).fit()\n",
    "# Coefficients Statistical Significance p-value < 0.05 (95% of confidence)\n",
    "print(aregressionweak.summary())\n"
   ]
  },
  {
   "cell_type": "code",
   "execution_count": 5,
   "metadata": {},
   "outputs": [
    {
     "name": "stdout",
     "output_type": "stream",
     "text": [
      "                            OLS Regression Results                            \n",
      "==============================================================================\n",
      "Dep. Variable:            aemhweakres   R-squared:                       0.001\n",
      "Model:                            OLS   Adj. R-squared:                 -0.011\n",
      "Method:                 Least Squares   F-statistic:                   0.07151\n",
      "Date:                Mon, 06 Nov 2017   Prob (F-statistic):              0.790\n",
      "Time:                        12:24:32   Log-Likelihood:                 15.256\n",
      "No. Observations:                  89   AIC:                            -26.51\n",
      "Df Residuals:                      87   BIC:                            -21.53\n",
      "Df Model:                           1                                         \n",
      "Covariance Type:            nonrobust                                         \n",
      "================================================================================\n",
      "                   coef    std err          t      P>|t|      [0.025      0.975]\n",
      "--------------------------------------------------------------------------------\n",
      "aconstant    -2.262e-05      0.022     -0.001      0.999      -0.043       0.043\n",
      "aemhweakres1     0.0287      0.107      0.267      0.790      -0.184       0.242\n",
      "==============================================================================\n",
      "Omnibus:                        0.967   Durbin-Watson:                   1.976\n",
      "Prob(Omnibus):                  0.617   Jarque-Bera (JB):                0.921\n",
      "Skew:                          -0.241   Prob(JB):                        0.631\n",
      "Kurtosis:                       2.871   Cond. No.                         4.91\n",
      "==============================================================================\n",
      "\n",
      "Warnings:\n",
      "[1] Standard Errors assume that the covariance matrix of the errors is correctly specified.\n"
     ]
    }
   ],
   "source": [
    "# 5.1.2. Test Regression Residuals White Noise\n",
    "# Calculate Residuals\n",
    "aemhall.loc[:, 'aemhweakres'] = aregressionweak.resid\n",
    "aemhall.loc[:, 'aemhweakres1'] = aemhall.loc[:, 'aemhweakres'].shift(1)\n",
    "# Convert all NaN value to 0 as OLS regression function doesn't have exception\n",
    "aemhall[np.isnan(aemhall)] = 0\n",
    "# Calculate OLS Regression\n",
    "aregfactweakres = ['aconstant', 'aemhweakres1']\n",
    "aregweakres = rg.OLS(aemhall.loc[:, 'aemhweakres'], aemhall.loc[:, aregfactweakres],\n",
    "                        hasconst=bool).fit()\n",
    "# Coefficients Statistical Significance p-value < 0.05 (95% of confidence)\n",
    "print(aregweakres.summary())\n"
   ]
  },
  {
   "cell_type": "code",
   "execution_count": 6,
   "metadata": {},
   "outputs": [
    {
     "name": "stdout",
     "output_type": "stream",
     "text": [
      "                            OLS Regression Results                            \n",
      "==============================================================================\n",
      "Dep. Variable:           aspremiumret   R-squared:                       0.171\n",
      "Model:                            OLS   Adj. R-squared:                  0.142\n",
      "Method:                 Least Squares   F-statistic:                     5.843\n",
      "Date:                Mon, 06 Nov 2017   Prob (F-statistic):            0.00112\n",
      "Time:                        12:25:06   Log-Likelihood:                 23.231\n",
      "No. Observations:                  89   AIC:                            -38.46\n",
      "Df Residuals:                      85   BIC:                            -28.51\n",
      "Df Model:                           3                                         \n",
      "Covariance Type:            nonrobust                                         \n",
      "================================================================================\n",
      "                   coef    std err          t      P>|t|      [0.025      0.975]\n",
      "--------------------------------------------------------------------------------\n",
      "aconstant        0.0635      0.026      2.455      0.016       0.012       0.115\n",
      "amomentumret    -0.0524      0.132     -0.398      0.692      -0.314       0.209\n",
      "asizeret         0.5750      0.148      3.898      0.000       0.282       0.868\n",
      "astyleret        0.1182      0.147      0.805      0.423      -0.174       0.410\n",
      "==============================================================================\n",
      "Omnibus:                        2.435   Durbin-Watson:                   1.676\n",
      "Prob(Omnibus):                  0.296   Jarque-Bera (JB):                2.152\n",
      "Skew:                          -0.381   Prob(JB):                        0.341\n",
      "Kurtosis:                       2.988   Cond. No.                         7.76\n",
      "==============================================================================\n",
      "\n",
      "Warnings:\n",
      "[1] Standard Errors assume that the covariance matrix of the errors is correctly specified.\n"
     ]
    }
   ],
   "source": [
    "# 5.2. Semi-Strong From Efficient Market Hypothesis\n",
    "\n",
    "# 5.2.1. Test Technical Factor Statistical Significance\n",
    "# Calculate OLS Regression\n",
    "aregfactorssemi = ['aconstant', 'amomentumret', 'asizeret', 'astyleret']\n",
    "aregressionsemi = rg.OLS(aemhall.loc[:, 'aspremiumret'], aemhall.loc[:, aregfactorssemi],\n",
    "                        hasconst=bool).fit()\n",
    "# Coefficients Statistical Significance p-value < 0.05 (95% of confidence)\n",
    "print(aregressionsemi.summary())\n"
   ]
  },
  {
   "cell_type": "code",
   "execution_count": 7,
   "metadata": {},
   "outputs": [
    {
     "name": "stdout",
     "output_type": "stream",
     "text": [
      "                            OLS Regression Results                            \n",
      "==============================================================================\n",
      "Dep. Variable:            aemhsemires   R-squared:                       0.023\n",
      "Model:                            OLS   Adj. R-squared:                  0.012\n",
      "Method:                 Least Squares   F-statistic:                     2.028\n",
      "Date:                Mon, 06 Nov 2017   Prob (F-statistic):              0.158\n",
      "Time:                        12:25:23   Log-Likelihood:                 24.256\n",
      "No. Observations:                  89   AIC:                            -44.51\n",
      "Df Residuals:                      87   BIC:                            -39.54\n",
      "Df Model:                           1                                         \n",
      "Covariance Type:            nonrobust                                         \n",
      "================================================================================\n",
      "                   coef    std err          t      P>|t|      [0.025      0.975]\n",
      "--------------------------------------------------------------------------------\n",
      "aconstant    -3.306e-05      0.020     -0.002      0.999      -0.039       0.039\n",
      "aemhsemires1     0.1509      0.106      1.424      0.158      -0.060       0.362\n",
      "==============================================================================\n",
      "Omnibus:                        1.166   Durbin-Watson:                   1.952\n",
      "Prob(Omnibus):                  0.558   Jarque-Bera (JB):                1.096\n",
      "Skew:                          -0.265   Prob(JB):                        0.578\n",
      "Kurtosis:                       2.877   Cond. No.                         5.37\n",
      "==============================================================================\n",
      "\n",
      "Warnings:\n",
      "[1] Standard Errors assume that the covariance matrix of the errors is correctly specified.\n"
     ]
    }
   ],
   "source": [
    "# 5.1.2. Test Regression Residuals White Noise\n",
    "# Calculate Residuals\n",
    "aemhall.loc[:, 'aemhsemires'] = aregressionsemi.resid\n",
    "aemhall.loc[:, 'aemhsemires1'] = aemhall.loc[:, 'aemhsemires'].shift(1)\n",
    "# Convert all NaN value to 0 as OLS regression function doesn't have exception\n",
    "aemhall[np.isnan(aemhall)] = 0\n",
    "# Calculate OLS Regression\n",
    "aregfactsemires = ['aconstant', 'aemhsemires1']\n",
    "aregsemires = rg.OLS(aemhall.loc[:, 'aemhsemires'], aemhall.loc[:, aregfactsemires],\n",
    "                        hasconst=bool).fit()\n",
    "# Coefficients Statistical Significance p-value < 0.05 (95% of confidence)\n",
    "print(aregsemires.summary())"
   ]
  },
  {
   "cell_type": "code",
   "execution_count": null,
   "metadata": {
    "collapsed": true
   },
   "outputs": [],
   "source": []
  }
 ],
 "metadata": {
  "kernelspec": {
   "display_name": "Python 3",
   "language": "python",
   "name": "python3"
  },
  "language_info": {
   "codemirror_mode": {
    "name": "ipython",
    "version": 3
   },
   "file_extension": ".py",
   "mimetype": "text/x-python",
   "name": "python",
   "nbconvert_exporter": "python",
   "pygments_lexer": "ipython3",
   "version": "3.6.2"
  }
 },
 "nbformat": 4,
 "nbformat_minor": 2
}
